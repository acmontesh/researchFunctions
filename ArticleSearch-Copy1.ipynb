{
 "cells": [
  {
   "cell_type": "code",
   "execution_count": null,
   "id": "5be1f6c0",
   "metadata": {},
   "outputs": [],
   "source": [
    "import pandas as pd\n",
    "import json"
   ]
  },
  {
   "cell_type": "code",
   "execution_count": null,
   "id": "7c016929",
   "metadata": {},
   "outputs": [],
   "source": [
    "def scopus_search():\n",
    "    import requests as rq\n",
    "    \n",
    "    #This is the gate the API exposes:\n",
    "    URL='https://api.elsevier.com/content/search/scopus'\n",
    "\n",
    "    #These are the required parameters by the Scopus' API:\n",
    "    header_params = {'apiKey':'my_key',\n",
    "                    'httpAccept': 'application/json',\n",
    "                    #This is the query, encoded with URL phrasing\n",
    "                    #This one will return info about every paper in Scopus with Pipe sticking and prediction \n",
    "                    #in their titles... \n",
    "                    'query': 'KEY(model) AND TITLE(stick* AND pipe)'}\n",
    "\n",
    "\n",
    "    #This is the GET call to the request instance:\n",
    "    q = rq.get(URL,header_params)\n",
    "    \n",
    "    return q.json() #This gets the json from the q response object."
   ]
  },
  {
   "cell_type": "code",
   "execution_count": null,
   "id": "c2065e79",
   "metadata": {
    "scrolled": false
   },
   "outputs": [],
   "source": [
    "def tabular_results(q):\n",
    "    df = pd.DataFrame(q['search-results']['entry'])\n",
    "    df.rename(columns={\"dc:title\":\"Title\", \n",
    "                       \"dc:creator\": \"Author\", \n",
    "                       'prism:publicationName':'Platform', \n",
    "                       'subtypeDescription':'Type',\n",
    "                       'prism:coverDate':'Date'},inplace=True)\n",
    "\n",
    "    Results = df[['Date','Title', 'Author', 'Platform', 'Type']]\n",
    "    Results.sort_values(by='Date')\n",
    "    Results.reset_index\n",
    "    pd.set_option('display.max_colwidth', None)\n",
    "    return Results"
   ]
  },
  {
   "cell_type": "code",
   "execution_count": null,
   "id": "904804d6",
   "metadata": {},
   "outputs": [],
   "source": [
    "q = scopus_search()\n",
    "tabular_results(q)"
   ]
  }
 ],
 "metadata": {
  "kernelspec": {
   "display_name": "Python 3 (ipykernel)",
   "language": "python",
   "name": "python3"
  },
  "language_info": {
   "codemirror_mode": {
    "name": "ipython",
    "version": 3
   },
   "file_extension": ".py",
   "mimetype": "text/x-python",
   "name": "python",
   "nbconvert_exporter": "python",
   "pygments_lexer": "ipython3",
   "version": "3.9.12"
  }
 },
 "nbformat": 4,
 "nbformat_minor": 5
}
